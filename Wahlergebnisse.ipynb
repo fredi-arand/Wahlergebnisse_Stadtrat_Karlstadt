{
 "cells": [
  {
   "cell_type": "code",
   "execution_count": 1,
   "metadata": {},
   "outputs": [
    {
     "name": "stdout",
     "output_type": "stream",
     "text": [
      "Bitte Kandidat*in auswählen ...\n"
     ]
    },
    {
     "data": {
      "application/vnd.jupyter.widget-view+json": {
       "model_id": "ee9c073d0b6f4a98afc0725ae128f502",
       "version_major": 2,
       "version_minor": 0
      },
      "text/plain": [
       "Dropdown(description='Number:', index=1, options=('1', '2', '3'), value='2')"
      ]
     },
     "metadata": {},
     "output_type": "display_data"
    }
   ],
   "source": [
    "from spd_kandidaten import spd_kandidaten\n",
    "import csv\n",
    "import ipywidgets as widgets\n",
    "\n",
    "with open('Open-Data-Gemeinderatswahl-Bayern1106.csv') as csvfile:\n",
    "    csvreader = csv.reader(csvfile, delimiter=';')\n",
    "    all_rows = [row for row in csvreader]\n",
    "    first_row = all_rows[0]\n",
    "    data_rows = all_rows[1:]\n",
    "\n",
    "print('Bitte Kandidat*in auswählen ...')\n",
    "widgets.Dropdown(\n",
    "    options=['1', '2', '3'],\n",
    "    value='2',\n",
    "    description='Number:',\n",
    "    disabled=False,\n",
    ")"
   ]
  },
  {
   "cell_type": "code",
   "execution_count": null,
   "metadata": {},
   "outputs": [],
   "source": []
  }
 ],
 "metadata": {
  "file_extension": ".py",
  "kernelspec": {
   "display_name": "Python 3.7.6 64-bit",
   "language": "python",
   "name": "python37664bit5b7b08496b5349388a3b07cf5b3ec26d"
  },
  "language_info": {
   "codemirror_mode": {
    "name": "ipython",
    "version": 3
   },
   "file_extension": ".py",
   "mimetype": "text/x-python",
   "name": "python",
   "nbconvert_exporter": "python",
   "pygments_lexer": "ipython3",
   "version": "3.7.6"
  },
  "mimetype": "text/x-python",
  "name": "python",
  "npconvert_exporter": "python",
  "pygments_lexer": "ipython3",
  "version": 3
 },
 "nbformat": 4,
 "nbformat_minor": 2
}
