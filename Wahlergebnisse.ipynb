{
 "nbformat": 4,
 "nbformat_minor": 2,
 "metadata": {
  "language_info": {
   "name": "python",
   "codemirror_mode": {
    "name": "ipython",
    "version": 3
   },
   "version": "3.7.6-final"
  },
  "orig_nbformat": 2,
  "file_extension": ".py",
  "mimetype": "text/x-python",
  "name": "python",
  "npconvert_exporter": "python",
  "pygments_lexer": "ipython3",
  "version": 3,
  "kernelspec": {
   "name": "python37664bit5b7b08496b5349388a3b07cf5b3ec26d",
   "display_name": "Python 3.7.6 64-bit"
  }
 },
 "cells": [
  {
   "cell_type": "code",
   "execution_count": 2,
   "metadata": {},
   "outputs": [
    {
     "output_type": "stream",
     "name": "stdout",
     "text": "{'d5_1': 'Stefan Rümmer', 'd5_2': 'Martha Bolkart-Mühlrath', 'd5_3': 'Marco Netrval', 'd5_4': 'Anja Hartung', 'd5_5': 'Frederick Arand', 'd5_6': 'Marion Rumpel', 'd5_7': 'Harald Schneider', 'd5_8': 'Sandra Hasseli', 'd5_9': 'Leon Stahl', 'd5_10': 'Karola Wingenfeld', 'd5_11': 'Marc Boreatti', 'd5_12': 'Stephan Keller', 'd5_13': 'Reiner Heßdörfer', 'd5_14': 'Heinrich Schoppmann', 'd5_15': 'Josef Duchnik', 'd5_16': 'Margarete Braun', 'd5_17': 'Heike Kohlmann', 'd5_18': 'Eva-Maria Eisele', 'd5_19': 'Alfons Mühlrath', 'd5_20': 'Heidi Wright'}\n"
    }
   ],
   "source": [
    "from spd_kandidaten import spd_kandidaten"
   ]
  },
  {
   "cell_type": "code",
   "execution_count": null,
   "metadata": {},
   "outputs": [],
   "source": []
  }
 ]
}